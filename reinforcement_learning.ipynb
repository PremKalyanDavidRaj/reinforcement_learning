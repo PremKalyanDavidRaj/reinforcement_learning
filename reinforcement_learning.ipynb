{
  "cells": [
    {
      "cell_type": "markdown",
      "metadata": {
        "id": "SPAM9t8yM66E"
      },
      "source": [
        "## **Lab 6**\n",
        "\n",
        "***Problem***: Robot's Shortest Path in a Maze\n",
        "- A growing e-commerce company is building a new warehouse, and wants a robot to handle all picking operations. The robot must pick up items and deliver them\n",
        "to a packaging area for shipping. To maximize efficiency, the robot must learn the shortest path between the packaging area and all other allowed locations in the warehouse.\n",
        "- The robot must navigate through the shortest path while avoiding all obstacles while taking the penalties into consideration.\n",
        "\n",
        "***Source***: Ngo, Tracey. 2023. Can Machine Learning Solve a Maze? https://www.sciencebuddies.org/science-fair-projects/project-ideas/ArtificialIntelligence_p008/artificial-intelligence/machine-learning-maze\n",
        "\n",
        "***Additional References***\n",
        "\n",
        "These references help with understand how Q-learning is used to train and evaluate an RL agent.\n",
        "\n",
        "- Awan, Abid Ali. 2022. An Introduction to Q-Learning: A Tutorial For Beginners. https://www.datacamp.com/tutorial/introduction-q-learning-beginner-tutorial\n",
        "- Lamba, Akshay. 2018. An Introduction to Q-Learning: Reinforcement Learning. Medium. https://medium.com/free-code-camp/an-introduction-to-q-learning-reinforcement-learning-14ac0b4493cc. Also on freeCodeCamp.org at https://www.freecodecamp.org/news/an-introduction-to-q-learning-reinforcement-learning-14ac0b4493cc/\n",
        "- Salloum, Ziad. 2021. Exploration in Reinforcement Learning. Medium. https://towardsdatascience.com/exploration-in-reinforcement-learning-e59ec7eeaa75\n",
        "- Singh, Anubhav. 2024. Introduction to Reinforcement Learning. https://www.datacamp.com/tutorial/introduction-reinforcement-learning"
      ]
    },
    {
      "cell_type": "markdown",
      "metadata": {
        "id": "4Yv5Y-rbNKoD"
      },
      "source": [
        "#### **Define the `Maze` class**\n",
        "A simple maze has walls, a starting point (S), and a goal point (G). The maze is represented by a grid where each cell has either 0 or 1 value:\n",
        "- 0 represents an empty cell\n",
        "- 1 represents a wall.\n",
        "\n",
        "To create a maze:\n",
        "- Choose the size of the maze: number of rows (or height) and number of columns (or width)\n",
        "- Locate the start and goal positions inside the maze.\n",
        "\n",
        "\n"
      ]
    },
    {
      "cell_type": "markdown",
      "metadata": {
        "id": "Lt-cywE_r-Sw"
      },
      "source": [
        "- To represent a 2-dimensional grid, we use Python library `numpy`.\n",
        "- To visualize the grid, we use `matplotlib.pyplot` module.\n",
        "\n",
        "Next, we import these libraries (code cell **1**) and define the `Maze` class (code cell **2**)"
      ]
    },
    {
      "cell_type": "markdown",
      "metadata": {
        "id": "5dPwO2j6TTEy"
      },
      "source": [
        "**1** (code cell)"
      ]
    },
    {
      "cell_type": "code",
      "execution_count": null,
      "metadata": {
        "id": "7Qh8vE8QTNH_"
      },
      "outputs": [],
      "source": [
        "import numpy as np\n",
        "import matplotlib.pyplot as plt"
      ]
    },
    {
      "cell_type": "markdown",
      "metadata": {
        "id": "ciZgSE_vb3wH"
      },
      "source": [
        "**2** (code cell)"
      ]
    },
    {
      "cell_type": "code",
      "execution_count": null,
      "metadata": {
        "id": "wFWXFzR7NSCW"
      },
      "outputs": [],
      "source": [
        "class Maze:\n",
        "    \"\"\"Represents a maze environment.\"\"\"\n",
        "    def __init__(self, maze, start_position, goal_position):\n",
        "        \"\"\"\n",
        "        Create Maze object given maze configuration in the parameters and with\n",
        "        start and goal positions.\n",
        "\n",
        "        Instance Variables:\n",
        "        :self.maze: numpy ndarray, Represents the layout of the maze.\n",
        "        :self.maze_height: int, Represents the height of the maze\n",
        "          (number of rows).\n",
        "        :self.maze_width: int, Represents the width of the maze\n",
        "          (number of columns).\n",
        "        :self.start_position: tuple, Represents the starting position\n",
        "          (row, column) in the maze.\n",
        "        :self.goal_position: tuple, Represents the goal position (row, column)\n",
        "          in the maze.\n",
        "\n",
        "        Parameters:\n",
        "        :param maze: numpy ndarray, Represents the layout of the maze where 0\n",
        "          represents a clear path and 1 represents a wall.\n",
        "        :param start_position: tuple, Represents the starting position\n",
        "          (row, column) in the maze.\n",
        "        :param goal_position: tuple, Represents the goal position (row, column)\n",
        "          in the maze.\n",
        "        \"\"\"\n",
        "        self.maze = maze\n",
        "        self.maze_height = maze.shape[0]\n",
        "        self.maze_width = maze.shape[1]\n",
        "        self.start_position = start_position\n",
        "        self.goal_position = goal_position\n",
        "\n",
        "    def show_maze(self, path=None):\n",
        "        \"\"\"\n",
        "        Displays the maze with start and goal positions marked.\n",
        "\n",
        "        :param path: list of tuples, Represents the path taken by the agent.\n",
        "        \"\"\"\n",
        "        plt.figure(figsize=(3,3))\n",
        "        plt.imshow(self.maze, cmap='Blues')\n",
        "        plt.text(self.start_position[0], self.start_position[1], 'S',\n",
        "                  ha='center', va='center', color='red', fontsize=20)\n",
        "        plt.text(self.goal_position[0], self.goal_position[1], 'G',\n",
        "                  ha='center', va='center', color='green', fontsize=20)\n",
        "        if path:\n",
        "            for position in path:\n",
        "                plt.text(position[0]-0.1, position[1], \"o\", va='center',\n",
        "                         color='black', fontsize=15)\n",
        "        for i in range(self.maze.shape[0] + 1):\n",
        "            plt.axhline(i - 0.5, color='black', linewidth=0.5)\n",
        "        for j in range(self.maze.shape[1] + 1):\n",
        "            plt.axvline(j - 0.5, color='black', linewidth=0.5)\n",
        "        plt.xticks([]), plt.yticks([])\n",
        "        plt.grid(color='black', linewidth=2)\n",
        "        plt.show()"
      ]
    },
    {
      "cell_type": "markdown",
      "metadata": {
        "id": "gBBn5FkyNV3B"
      },
      "source": [
        "#### **Create a `Maze` instance**\n",
        "\n",
        "1. Define a maze layout by instantiating a **5 x 5 `numpy` array**, with empty and wall cells\n",
        "2. Create a `Maze` object\n",
        "  - Using the maze layout and\n",
        "  - Determining the start (0, 0) and end positions (4, 4)\n",
        "3. Visualize the maze"
      ]
    },
    {
      "cell_type": "markdown",
      "metadata": {
        "id": "bJxj3zsMRwqo"
      },
      "source": [
        "**3** (code cell)"
      ]
    },
    {
      "cell_type": "code",
      "execution_count": null,
      "metadata": {
        "colab": {
          "base_uri": "https://localhost:8080/",
          "height": 268
        },
        "id": "hssgcGXxNSde",
        "outputId": "b630e653-31a7-4a21-c278-1873198db219"
      },
      "outputs": [],
      "source": [
        "maze_layout = np.array([\n",
        "    [0, 1, 0, 0, 0],\n",
        "    [0, 0, 0, 1, 0],\n",
        "    [0, 0, 0, 1, 0],\n",
        "    [0, 1, 0, 0, 1],\n",
        "    [0, 0, 0, 0, 0]\n",
        "])\n",
        "\n",
        "maze = Maze(maze_layout, (0, 0), (4, 4))\n",
        "maze.show_maze()"
      ]
    },
    {
      "cell_type": "markdown",
      "metadata": {
        "id": "sKvIYHOJpDeF"
      },
      "source": [
        "#### **Robot Actions**\n",
        "\n",
        "The robot can take the following actions, each represented as a tuple of two values: (row change, column change)\n",
        "\n",
        "- **North:** Moving one step up, reducing the row index by 1, (-1, 0)\n",
        "- **South:** Moving one step down, increasing the row index by 1, (1, 0)\n",
        "- **West:** Moving one step to the left, reducing the column index by 1, (0, -1)\n",
        "- **East:** Moving one step to the right, increasing the column index by 1, (0, 1)\n"
      ]
    },
    {
      "cell_type": "markdown",
      "metadata": {
        "id": "wc7Ieth3cF7o"
      },
      "source": [
        "![image.png](data:image/png;base64,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)"
      ]
    },
    {
      "cell_type": "markdown",
      "metadata": {
        "id": "JR7RygakNegE"
      },
      "source": [
        "#### **Implement and evaluate the agent (robot)**\n",
        "\n",
        "**What the agent does**\n",
        "\n",
        "See code cells **4** and **5**\n",
        "- The agent can move in four directions: North, South, West, and East (see code cell **4**)\n",
        "  - Define **`actions` list** of 4 tuples for the 4 directions\n",
        "  - A tuple has (row, column) values that change the current position to the new position in the desired direction\n",
        "- The agent uses **$\\epsilon$-greedy strategy** (see code cell **5**, `get_action()` method) by balancing:\n",
        "  - **exploration**: choose a random action\n",
        "  - **exploitation**:\n",
        "    - choose the best action for the current state according to the Q-table, and\n",
        "    - update the Q-table\n",
        "\n",
        "**How the agent finds the shortest path**\n",
        "\n",
        "See the code cells **6**, **7**, **8**, **9**\n",
        "\n",
        "**How the agent learns**\n",
        "\n",
        "See the code cells **10**, **11**, and **12**\n"
      ]
    },
    {
      "cell_type": "markdown",
      "metadata": {
        "id": "oGjoCUKPhK2W"
      },
      "source": [
        "**4** (code cell)"
      ]
    },
    {
      "cell_type": "code",
      "execution_count": null,
      "metadata": {
        "id": "HvJZ2tCpMMbF"
      },
      "outputs": [],
      "source": [
        "actions = [(-1, 0),\n",
        "          (1, 0),\n",
        "          (0, -1),\n",
        "          (0, 1)]"
      ]
    },
    {
      "cell_type": "markdown",
      "metadata": {
        "id": "T_tF0WrtiQVY"
      },
      "source": [
        "#### **Define the `QLearningAgent` class**\n",
        "\n",
        "The `QLearningAgent` class implements an agent that learns how to find the shortest path to the goal by using the **$\\epsilon$-greedy stragegy**."
      ]
    },
    {
      "cell_type": "markdown",
      "metadata": {
        "id": "w6AW696ogsk4"
      },
      "source": [
        "**5** (code cell)"
      ]
    },
    {
      "cell_type": "code",
      "execution_count": null,
      "metadata": {
        "id": "Ex2N0-btCIz2"
      },
      "outputs": [],
      "source": [
        "class QLearningAgent:\n",
        "    \"\"\"Represents a Q-learning agent for navigating a maze environment.\"\"\"\n",
        "    def __init__(self, maze, learning_rate=0.1, discount_factor=0.9,\n",
        "                 exploration_start=1.0, exploration_end=0.01,\n",
        "                 num_episodes=100):\n",
        "        \"\"\"\n",
        "        Instance Variables:\n",
        "        :self.q_table: numpy ndarray, to store Q-values\n",
        "        :self.learning_rate: float, Learning rate\n",
        "        :self.discount_factor: float, Discount factor for future rewards\n",
        "        :self.exploration_start: float, Initial exploration rate\n",
        "        :self.exploration_end: float, Final exploration rate\n",
        "        :self.num_episodes: int, Number of episodes for training\n",
        "\n",
        "        Parameters:\n",
        "        :param maze: Maze\n",
        "        :param learning_rate: float, Learning rate\n",
        "        :param discount_factor: float, Discount factor for future rewards\n",
        "        :param exploration_start: float, Initial exploration rate\n",
        "        :param exploration_end: float, Final exploration rate\n",
        "        :param num_episodes: int, Number of episodes for training\n",
        "        \"\"\"\n",
        "        self.q_table = np.zeros((maze.maze_height, maze.maze_width, len(actions)))\n",
        "        self.learning_rate = learning_rate\n",
        "        self.discount_factor = discount_factor\n",
        "        self.exploration_start = exploration_start\n",
        "        self.exploration_end = exploration_end\n",
        "        self.num_episodes = num_episodes\n",
        "\n",
        "    def get_exploration_rate(self, current_episode):\n",
        "        \"\"\"\n",
        "        Calculates the exploration rate for the current episode.\n",
        "\n",
        "        :param current_episode: int, Current episode number.\n",
        "        :return: float, Exploration rate for the current episode\n",
        "        \"\"\"\n",
        "        exploration_rate = self.exploration_start * (self.exploration_end / self.exploration_start) ** (current_episode / self.num_episodes)\n",
        "        return exploration_rate\n",
        "\n",
        "    def get_action(self, state, current_episode):\n",
        "        \"\"\"\n",
        "        Selects an action for the given state using epsilon-greedy strategy.\n",
        "\n",
        "        :param state: tuple, Current state (row, column) in the maze\n",
        "        :param current_episode: int, Current episode number\n",
        "        :return: int, index of the selected action (0 for North, 1 for South, 2\n",
        "          for West, 3 for East).\n",
        "        \"\"\"\n",
        "        exploration_rate = self.get_exploration_rate(current_episode)\n",
        "        if np.random.rand() < exploration_rate:\n",
        "            return np.random.randint(len(actions))\n",
        "        else:\n",
        "            return np.argmax(self.q_table[state])\n",
        "\n",
        "    def update_q_table(self, state, action, next_state, reward):\n",
        "        \"\"\"\n",
        "        Updates the Q-table based on the Q-learning algorithm.\n",
        "\n",
        "        :param state: tuple, Current state (row, column) in the maze.\n",
        "        :param action: int, Index of the action taken.\n",
        "        :param next_state: tuple, Next state (row, column) in the maze.\n",
        "        :param reward: float, Reward received for the action.\n",
        "        \"\"\"\n",
        "        best_next_action = np.argmax(self.q_table[next_state])\n",
        "        current_q_value = self.q_table[state][action]\n",
        "        max_future_reward = self.q_table[next_state][best_next_action]\n",
        "        # We use `e_d_c_r` to mean expected discounted cumulative reward\n",
        "        e_d_c_r = self.learning_rate * (reward + self.discount_factor * max_future_reward - current_q_value)\n",
        "        new_q_value = current_q_value + e_d_c_r\n",
        "        self.q_table[state][action] = new_q_value"
      ]
    },
    {
      "cell_type": "markdown",
      "metadata": {
        "id": "Py77uXOUgYnd"
      },
      "source": [
        "#### **Reward system**\n",
        "- Gain 100 points when goal is reached\n",
        "- Lose 10 points when wall or maze edge is hit\n",
        "- Lose 1 point when a step is taken\n",
        "  - This helps with finding the shortest path"
      ]
    },
    {
      "cell_type": "markdown",
      "metadata": {
        "id": "DTEE249RIrSS"
      },
      "source": [
        "**6** (code cell)"
      ]
    },
    {
      "cell_type": "code",
      "execution_count": null,
      "metadata": {
        "id": "noaCCvMNNgYf"
      },
      "outputs": [],
      "source": [
        "goal_reward = 100\n",
        "wall_edge_penalty = -10\n",
        "step_penalty = -1"
      ]
    },
    {
      "cell_type": "markdown",
      "metadata": {
        "id": "k9BuRYJNgrSg"
      },
      "source": [
        "#### **Define `finish_episode()` function**\n",
        "As long as\n",
        "- the goal has not been reached OR\n",
        "- the limit of maximum number of steps has not been reached\n",
        "  - Ask the agent to `get_action()`\n",
        "  - Check the condition of the new state obtained from the action\n",
        "  - Apply corresponding reward (wall/edge penalty, step reward, or goal reward)\n",
        "  - Decide what to do with the state\n",
        "    - Change to new state if step can be taken\n",
        "    - Be stuck in current state if wall or edge\n",
        "    - Win and finish the episode if goal is reached\n",
        "  - Update reward and number of steps\n",
        "  - If training is allowed, update Q-table\n",
        "Return\n",
        "- Either total reward, and total number of steps, and the path if successful\n",
        "- Or 0 reward, total of number of steps, and no path"
      ]
    },
    {
      "cell_type": "markdown",
      "metadata": {
        "id": "veJ6NC0vIs4Z"
      },
      "source": [
        "**7** (code cell)"
      ]
    },
    {
      "cell_type": "code",
      "execution_count": null,
      "metadata": {
        "id": "yw9BDlqFNo2U"
      },
      "outputs": [],
      "source": [
        "def finish_episode(agent, maze, current_episode, train=True):\n",
        "    \"\"\"\n",
        "    Simulates the agent's movements in the maze for a single episode.\n",
        "\n",
        "    :param agent: QLearningAgent object, Q-learning agent navigating the maze.\n",
        "    :param maze: Maze object, Maze environment.\n",
        "    :param current_episode: int, Current episode number.\n",
        "    :param train: bool, Flag to update (or not) Q-table during training\n",
        "      (default=True).\n",
        "    :return: tuple of three values\n",
        "      - episode_reward: float, Cumulative reward obtained during the episode.\n",
        "      - episode_step: int, Total number of steps taken during the episode.\n",
        "      - path: list of states visited during the episode.\n",
        "    \"\"\"\n",
        "    rows, columns = maze_layout.shape\n",
        "    max_steps = rows * columns\n",
        "    current_state = maze.start_position\n",
        "    is_done = False\n",
        "    episode_reward = 0\n",
        "    episode_step = 0\n",
        "    path = [current_state]\n",
        "\n",
        "    while not is_done and episode_step < max_steps:\n",
        "        action = agent.get_action(current_state, current_episode)\n",
        "\n",
        "        next_state = (current_state[0] + actions[action][0], current_state[1]\n",
        "                      + actions[action][1])\n",
        "\n",
        "        if next_state[0] < 0 or next_state[0] >= maze.maze_height or next_state[1] < 0 or next_state[1] >= maze.maze_width or maze.maze[next_state[1]][next_state[0]] == 1:\n",
        "            reward = wall_edge_penalty\n",
        "            next_state = current_state\n",
        "        elif next_state == maze.goal_position:\n",
        "            path.append(current_state)\n",
        "            reward = goal_reward\n",
        "            is_done = True\n",
        "        else:\n",
        "            path.append(current_state)\n",
        "            reward = step_penalty\n",
        "\n",
        "        episode_reward += reward\n",
        "        episode_step += 1\n",
        "\n",
        "        if train:\n",
        "            agent.update_q_table(current_state, action, next_state, reward)\n",
        "\n",
        "        current_state = next_state\n",
        "\n",
        "    if next_state != maze.goal_position:\n",
        "        return 0, episode_step, []\n",
        "\n",
        "    return episode_reward, episode_step, path\n"
      ]
    },
    {
      "cell_type": "markdown",
      "metadata": {
        "id": "zXCcUJNK8aqz"
      },
      "source": [
        "#### **Define `test_agent()` function**"
      ]
    },
    {
      "cell_type": "markdown",
      "metadata": {
        "id": "P1uXGLY6Iujp"
      },
      "source": [
        "**8** (code cell)"
      ]
    },
    {
      "cell_type": "code",
      "execution_count": null,
      "metadata": {
        "id": "546FkRv-NqIc"
      },
      "outputs": [],
      "source": [
        "def test_agent(agent, maze, num_episodes=1):\n",
        "    \"\"\"\n",
        "    Evaluates the agent's performance in the maze.\n",
        "\n",
        "    :param agent: QLearningAgent, Q-learning agent navigating the maze.\n",
        "    :param maze: Maze\n",
        "    :param num_episodes: int, Number of episodes to simulate (default=1).\n",
        "    :return: tuple of two values, corresponding to:\n",
        "      - episode_step: int, Total number of steps taken during the evaluation\n",
        "      episode\n",
        "      - episode_reward: float, Cumulative reward obtained during the evaluation\n",
        "      episode\n",
        "    \"\"\"\n",
        "    episode_reward, episode_step, path = finish_episode(agent, maze,\n",
        "                                                        num_episodes,\n",
        "                                                        train=False)\n",
        "    if path == []:\n",
        "      print(\"No path found\")\n",
        "    else:\n",
        "      print(\"Learned Path:\")\n",
        "      for row, col in path:\n",
        "          print(f\"({row}, {col})-> \", end='')\n",
        "      print(\"Goal!\")\n",
        "\n",
        "    print(\"Number of steps:\", episode_step)\n",
        "    print(\"Total reward:\", episode_reward)\n",
        "\n",
        "    maze.show_maze(path)\n",
        "\n",
        "    return episode_step, episode_reward"
      ]
    },
    {
      "cell_type": "markdown",
      "metadata": {
        "id": "eGCYGU9BgPU-"
      },
      "source": [
        "**9** (code cell)"
      ]
    },
    {
      "cell_type": "code",
      "execution_count": null,
      "metadata": {
        "colab": {
          "base_uri": "https://localhost:8080/",
          "height": 337
        },
        "id": "8092Zj2jp_xP",
        "outputId": "c4d610bc-09d7-4b50-b605-5e96e30b546d"
      },
      "outputs": [],
      "source": [
        "agent = QLearningAgent(maze)\n",
        "test_agent(agent, maze)"
      ]
    },
    {
      "cell_type": "markdown",
      "metadata": {
        "id": "JDZ98Z0nNxZ-"
      },
      "source": [
        "Did you notice that the untrained robot takes a lot of steps? That is because the robot keeps backtracking and hitting walls. Before it has learned anything, it is blindly going through the maze, choosing its path randomly."
      ]
    },
    {
      "cell_type": "markdown",
      "metadata": {
        "id": "Y3OnS458IwDh"
      },
      "source": [
        "**10** (code cell)"
      ]
    },
    {
      "cell_type": "code",
      "execution_count": null,
      "metadata": {
        "id": "WXCvRpIdNriu"
      },
      "outputs": [],
      "source": [
        "def train_agent(agent, maze, num_episodes=100):\n",
        "    \"\"\"\n",
        "    Trains the Q-learning agent to navigate the maze.\n",
        "\n",
        "    :param agent: QLearningAgent, agent navigating the maze\n",
        "    :param maze: Maze\n",
        "    :param num_episodes: int, Number of episodes for training (default=100)\n",
        "    \"\"\"\n",
        "    episode_rewards = []\n",
        "    episode_steps = []\n",
        "\n",
        "    for episode in range(num_episodes):\n",
        "        episode_reward, episode_step, path = finish_episode(agent, maze,\n",
        "                                                            episode,\n",
        "                                                            train=True)\n",
        "\n",
        "        episode_rewards.append(episode_reward)\n",
        "        episode_steps.append(episode_step)\n",
        "    if episode_reward == 0:\n",
        "      print (\"No path found\")\n",
        "    else:\n",
        "      plt.figure(figsize=(10, 5))\n",
        "      plt.subplot(1, 2, 1)\n",
        "      plt.plot(episode_rewards)\n",
        "      plt.xlabel('Episode')\n",
        "      plt.ylabel('Cumulative Reward')\n",
        "      plt.title('Reward per Episode')\n",
        "      print(episode_rewards)\n",
        "      average_reward = sum(episode_rewards) / len(episode_rewards)\n",
        "      print(f\"The average reward is: {average_reward}\")\n",
        "\n",
        "      plt.subplot(1, 2, 2)\n",
        "      plt.plot(episode_steps)\n",
        "      plt.xlabel('Episode')\n",
        "      plt.ylabel('Steps Taken')\n",
        "      plt.ylim(0, 100)\n",
        "      plt.title('Steps per Episode')\n",
        "\n",
        "      average_steps = sum(episode_steps) / len(episode_steps)\n",
        "      print(f\"The average steps is: {average_steps}\")\n",
        "\n",
        "      plt.tight_layout()\n",
        "      plt.show()"
      ]
    },
    {
      "cell_type": "markdown",
      "metadata": {
        "id": "lD-lG30WOEck"
      },
      "source": [
        "#### **Training the agent**"
      ]
    },
    {
      "cell_type": "markdown",
      "metadata": {
        "id": "X1IjYTDcIxLe"
      },
      "source": [
        "**11** (code cell)"
      ]
    },
    {
      "cell_type": "code",
      "execution_count": null,
      "metadata": {
        "colab": {
          "base_uri": "https://localhost:8080/",
          "height": 579
        },
        "id": "Q6ZdFAGxOC7m",
        "outputId": "94f64129-b4a8-458a-ce36-caf2aaf6cdf5"
      },
      "outputs": [],
      "source": [
        "train_agent(agent, maze, num_episodes=100)"
      ]
    },
    {
      "cell_type": "markdown",
      "metadata": {
        "id": "cV2azs-tONeY"
      },
      "source": [
        "#### **Testing the agent after training**"
      ]
    },
    {
      "cell_type": "markdown",
      "metadata": {
        "id": "xDy6OYV_Iy4h"
      },
      "source": [
        "**12** (code cell)"
      ]
    },
    {
      "cell_type": "code",
      "execution_count": null,
      "metadata": {
        "colab": {
          "base_uri": "https://localhost:8080/",
          "height": 355
        },
        "id": "NZhI1ijFOJTu",
        "outputId": "37e9f80a-ee65-438d-f2d3-80bf47b8a9aa"
      },
      "outputs": [],
      "source": [
        "test_agent(agent, maze, num_episodes=100)"
      ]
    }
  ],
  "metadata": {
    "colab": {
      "provenance": []
    },
    "kernelspec": {
      "display_name": "Python 3",
      "name": "python3"
    },
    "language_info": {
      "codemirror_mode": {
        "name": "ipython",
        "version": 3
      },
      "file_extension": ".py",
      "mimetype": "text/x-python",
      "name": "python",
      "nbconvert_exporter": "python",
      "pygments_lexer": "ipython3",
      "version": "3.11.8"
    }
  },
  "nbformat": 4,
  "nbformat_minor": 0
}
